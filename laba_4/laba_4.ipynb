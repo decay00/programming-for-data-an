{
  "cells": [
    {
      "cell_type": "markdown",
      "metadata": {
        "id": "view-in-github",
        "colab_type": "text"
      },
      "source": [
        "<a href=\"https://colab.research.google.com/github/decay00/programming-for-data-an/blob/main/laba_4/laba_4.ipynb\" target=\"_parent\"><img src=\"https://colab.research.google.com/assets/colab-badge.svg\" alt=\"Open In Colab\"/></a>"
      ]
    },
    {
      "cell_type": "markdown",
      "metadata": {
        "id": "As0Xyl6QRjHe"
      },
      "source": [
        "# Анализ и обработка результатов\n",
        "\n",
        "В анализе данных важно наглядное представление результатов, чтобы их мог оценить заказчик. Это бизнес, где на кону громадный трафик, серверные мощности, личное время многотысячной аудитории. И одновременно это исследование.\n",
        "\n",
        "Как в настоящей экспериментальной науке, ответ непредсказуем. Его точность зависит от умелого владения статистическими методами и от качества исходных данных. Перед тем, как начинать считать, проверьте, грамотно ли ваши данные подготовлены.\n",
        "\n",
        "# Группировка данных\n",
        "\n",
        "Слово «анализ» означает разбор, рассмотрение с разных сторон. Анализ данных начинают с разделения их на группы по какому-нибудь признаку. Эта операция называется группировка данных. Она помогает изучить материал более подробно, чтобы затем перейти к поиску взаимосвязей между отдельными группами.\n",
        "\n",
        "\n",
        "Группировка оправданна, если данные чётко делятся по значимому признаку, а полученные группы близки к теме задачи. Например, когда есть данные обо всех покупках в супермаркете, можно смело заниматься группировкой. Так можно установить время наплыва покупателей и решить проблему пиковых нагрузок. Или посчитать средний чек — обычно для магазинов это ключевая метрика.\n",
        "\n",
        "\n",
        "Стадии группировки хорошо укладываются в словесную формулу **split-apply-combine**:\n",
        "\n",
        "•\tразделить, **split** — разбиение на группы по определённому критерию;\n",
        "\n",
        "•\tприменить, **apply** — применение какого-либо метода к каждой группе в отдельности, например, подсчёт численности группы методом count() или суммирование вызовом sum();\n",
        "\n",
        "•\tобъединить, **combine** — сведение результатов в новую структуру данных, в зависимости от условий разделения и выполнения метода это бывает DataFrame и Series.\n",
        "\n",
        "На картинке изображен принцип **split-apply-combine** для таблицы с экзопланетами. Посмотрим, как вообще идут дела с поиском экзопланет. Сначала данные делят по группам, где каждая группа — это год. Потом метод **count()** подсчитывает численность каждой группы. В итоге получаем новую структуру данных с группами, где каждая содержит год и число открытых за этот год экзопланет.\n",
        "\n",
        "![image.png](attachment:image.png)\n",
        "\n",
        "В Рandas для группировки данных есть метод **groupby()**. Он принимает как аргумент название столбца, по которому нужно группировать. В случае с делением экзопланет по годам открытия:\n",
        "\n",
        "**print(exoplanet.groupby('discovered'))**\n",
        "\n",
        "**<pandas.core.groupby.DataFrameGroupBy object at 0x7fc1e1ca3400>**\n",
        "\n",
        "\n",
        "Применение метода **groupby()** к объекту типа DataFrame приводит к созданию объекта особого типа — **DataFrameGroupBy**. Это сгруппированные данные. Если применить к ним какой-нибудь метод Pandas, они станут новой структурой данных типа **DataFrame** или **Series**.\n",
        "Подсчитаем сгруппированные по годам экзопланеты методом **count()**:\n",
        "\n",
        "Если нужно сравнить наблюдения по одному показателю, метод применяют к **DataFrameGroupBy** с указанием на один столбец. Нас в первую очередь интересует радиус экзопланет: мы ищем другую Землю. Давайте получим таблицу с единственным столбцом 'radius':\n",
        "\n",
        "**exo_number = exoplanet.groupby('discovered')['radius'].count()**\n",
        "\n",
        "**print(exo_number)**\n",
        "\n",
        "Получили Series, где по годам открытия расписано количество экзопланет, для которых удалось установить радиус.\n",
        "\n",
        "Посмотрим, как меняется средний радиус открытых экзопланет год от года. Для этого надо сложить радиусы планет, открытых за определённый год, и поделить на их количество (которое мы уже нашли).\n",
        "\n",
        "Сумма радиусов считается методом **sum()**:\n",
        "\n",
        "**exo_radius_sum = exoplanet.groupby('discovered')['radius'].sum()**\n",
        "\n",
        "\n",
        "**print(exo_radius_sum)**\n",
        "\n",
        "\n",
        "\n",
        "## Задача\n",
        "Вашему вниманию предлагается датасет с обзором показателей самоубийств с 1985 по 2016 год — Сравнение социально-экономической информации с показателями самоубийств по годам и странам.\n",
        "\n",
        "Столбцами этой таблицы являются: страна, год, пол, возрастная группа, количество самоубийств, население, уровень самоубийств, сводный ключ по стране за год, ИЧР (индекс человеческого развития) за год, ВВП за год, ВВП на душу населения, поколение (на основе среднего по возрастной группе).\n",
        "\n",
        "1. Загрузите таблицу master, содержащую данные о самоубийствах. Выведите на экран таблицу и оцените данные, обратите внимание на названия столбцов, переименуйте их, если это необходимо.\n",
        "\n",
        "2. Убедитесь в том, что данные прошли предподготовку.  Пропущенные и неопределённые значения выявляет метод isna(), а суммарное количество таких значений — метод sum().\n",
        "\n",
        "3. Сгруппируйте DataFrame по столбцу country, сохраните полученный результат в переменной country_grouping.\n",
        "\n",
        "4. Посчитайте количество случаев самоубийств по странам, которые были совершены, методом **sum()**, указав, что выбираем один столбец suicides_no.\n",
        "\n",
        "Сохраните результат в переменной country_sum и выведите первые 30 строк этой таблицы.\n",
        "\n"
      ]
    },
    {
      "cell_type": "code",
      "execution_count": 2,
      "metadata": {
        "scrolled": true,
        "colab": {
          "base_uri": "https://localhost:8080/"
        },
        "id": "bXsdybmARjHf",
        "outputId": "39a31121-a22d-4209-f6d8-46e60bd5478a"
      },
      "outputs": [
        {
          "output_type": "stream",
          "name": "stdout",
          "text": [
            "country\n",
            "Albania                     238\n",
            "Antigua and Barbuda           0\n",
            "Argentina                 27485\n",
            "Armenia                     628\n",
            "Australia                 19654\n",
            "Austria                   15124\n",
            "Azerbaijan                  111\n",
            "Bahamas                      39\n",
            "Bahrain                     152\n",
            "Barbados                     54\n",
            "Belarus                   11757\n",
            "Belgium                   20424\n",
            "Belize                      154\n",
            "Bosnia and Herzegovina      318\n",
            "Brazil                    81549\n",
            "Bulgaria                  10516\n",
            "Canada                    33612\n",
            "Chile                     14907\n",
            "Colombia                  17940\n",
            "Costa Rica                 2513\n",
            "Croatia                    6397\n",
            "Cuba                      12998\n",
            "Cyprus                      217\n",
            "Czech Republic            14760\n",
            "Denmark                    5335\n",
            "Ecuador                    7080\n",
            "El Salvador                4373\n",
            "Estonia                    2381\n",
            "Fiji                         92\n",
            "Finland                    9474\n",
            "Name: suicides_no, dtype: int64\n"
          ]
        }
      ],
      "source": [
        "import pandas as pd\n",
        "\n",
        "master = pd.read_csv('master.csv')\n",
        "master.dropna(inplace=True)\n",
        "master = master.reset_index(drop=True)\n",
        "\n",
        "country_grouping = master.groupby('country')\n",
        "country_sum = country_grouping['suicides_no'].sum()\n",
        "\n",
        "print(country_sum.head(30))"
      ]
    },
    {
      "cell_type": "markdown",
      "metadata": {
        "id": "9q8AbIICRjHg"
      },
      "source": [
        "# Сортировка данных\n",
        "\n",
        "\n",
        "Поиск необычного в группе — что среди планет, что среди меломанов — это прежде всего поиск чемпионов: объектов с выдающимися показателями по разным статьям. Как всю таблицу, так и отдельные группы изучают, сортируя строки по какому-либо столбцу.\n",
        "\n",
        "В Pandas для этой операции есть метод **sort_values()**. У него два аргумента:\n",
        "\n",
        "• **by = 'имя столбца'** — имя столбца, по которому нужно сортировать;\n",
        "\n",
        "• **ascending:** по умолчанию True. Для сортировки по убыванию установите значение False.\n",
        "\n",
        "![image.png](attachment:image.png)\n",
        "\n",
        "\n",
        "Среди экзопланет интересны близкие по размерам к Земле. Есть ли такие? Отсортируем список по радиусу в порядке возрастания. Тогда в голове таблицы окажутся самые малые, на которых гравитация не прижмёт нас к полу.\n",
        "\n",
        "**print(exoplanet.sort_values(by='radius').head(30))**\n",
        "\n",
        "Оказывается, некоторые из уже открытых экзопланет по размерам близки не то что к Земле, но уже и к Луне! Получим список экзопланет с радиусом меньше земного. Смотрите, как логический оператор (здесь это <) задействуется в отборе элементов столбца. Дальше нам этот приём не раз понадобится.\n",
        "\n",
        "**print(exoplanet[exoplanet['radius'] < 1])**\n",
        "\n",
        "Но и этот список такой длинный, что изучать его лучше по частям. Экзопланеты, близкие по размерам к Земле, за последнее десятилетие открывали нередко. Можно изучать список открытых за каждый год. Например, для 2014 года (вновь обратите внимание на работу логического оператора, теперь это ==):\n",
        "\n",
        "**print(exoplanet[exoplanet['discovered'] == 2014])**\n",
        "\n",
        "А чтобы не тратить время на лишнее, поставим оба условия сразу. Для этого в Pandas есть логический оператор &, подобный оператору and языка Python. Напомним, его смысл на русском языке можно передать словами «и ещё»:\n",
        "\n",
        "**exo_small_14 = exoplanet[ (exoplanet['radius']<1) & (exoplanet['discovered']==2014)]**\n",
        "\n",
        "**print(exo_small_14)**\n",
        "\n",
        "Отсортируем результат в порядке убывания радиуса.\n",
        "\n",
        "**print(exo_small_14.sort_values(by = 'radius', ascending = False))**\n",
        "\n",
        "\n",
        "\n"
      ]
    },
    {
      "cell_type": "markdown",
      "metadata": {
        "id": "yIF7X-FzRjHg"
      },
      "source": [
        "## Задача\n",
        "1. Выделим пятерки стран с самым низким и самым высоким уровнем самоубийств в мире."
      ]
    },
    {
      "cell_type": "code",
      "execution_count": 3,
      "metadata": {
        "colab": {
          "base_uri": "https://localhost:8080/"
        },
        "id": "2FQnwgRVRjHh",
        "outputId": "358df6ee-7f97-488a-e04c-f781b28018d5"
      },
      "outputs": [
        {
          "output_type": "stream",
          "name": "stdout",
          "text": [
            "country\n",
            "United States    355963\n",
            "Japan            259729\n",
            "France           106296\n",
            "Germany           98542\n",
            "Ukraine           85362\n",
            "Name: suicides_no, dtype: int64\n"
          ]
        }
      ],
      "source": [
        "highest_country = country_sum.sort_values(ascending=False).head(5)\n",
        "print(highest_country)\n"
      ]
    },
    {
      "cell_type": "code",
      "execution_count": 4,
      "metadata": {
        "scrolled": true,
        "colab": {
          "base_uri": "https://localhost:8080/"
        },
        "id": "G3RQwqzIRjHh",
        "outputId": "2e802156-5217-4354-a2b8-e0584b4fb8fe"
      },
      "outputs": [
        {
          "output_type": "stream",
          "name": "stdout",
          "text": [
            "country\n",
            "Antigua and Barbuda     0\n",
            "Grenada                 3\n",
            "Maldives                4\n",
            "Oman                   20\n",
            "Seychelles             32\n",
            "Name: suicides_no, dtype: int64\n"
          ]
        }
      ],
      "source": [
        "lowest_country = country_sum.sort_values(ascending=True).head(5)\n",
        "print(lowest_country)\n"
      ]
    },
    {
      "cell_type": "markdown",
      "metadata": {
        "id": "mltmYkENRjHh"
      },
      "source": [
        "2. Исследуйте распределение количества суидидов по гендерному признаку. Найдите лидеров и антилидеров по количеству самоубийств среди женщин. Повторяется ли картина по сравнению с предыдущим исследованием?"
      ]
    },
    {
      "cell_type": "code",
      "execution_count": 5,
      "metadata": {
        "colab": {
          "base_uri": "https://localhost:8080/",
          "height": 272
        },
        "id": "eQNvpiuoRjHh",
        "outputId": "a34d8cd8-19d4-4b12-a30c-1fc25ddb8568"
      },
      "outputs": [
        {
          "output_type": "execute_result",
          "data": {
            "text/plain": [
              "country\n",
              "Japan            80683\n",
              "United States    75033\n",
              "France           28168\n",
              "Germany          26623\n",
              "Brazil           17736\n",
              "Name: suicides_no, dtype: int64"
            ],
            "text/html": [
              "<div>\n",
              "<style scoped>\n",
              "    .dataframe tbody tr th:only-of-type {\n",
              "        vertical-align: middle;\n",
              "    }\n",
              "\n",
              "    .dataframe tbody tr th {\n",
              "        vertical-align: top;\n",
              "    }\n",
              "\n",
              "    .dataframe thead th {\n",
              "        text-align: right;\n",
              "    }\n",
              "</style>\n",
              "<table border=\"1\" class=\"dataframe\">\n",
              "  <thead>\n",
              "    <tr style=\"text-align: right;\">\n",
              "      <th></th>\n",
              "      <th>suicides_no</th>\n",
              "    </tr>\n",
              "    <tr>\n",
              "      <th>country</th>\n",
              "      <th></th>\n",
              "    </tr>\n",
              "  </thead>\n",
              "  <tbody>\n",
              "    <tr>\n",
              "      <th>Japan</th>\n",
              "      <td>80683</td>\n",
              "    </tr>\n",
              "    <tr>\n",
              "      <th>United States</th>\n",
              "      <td>75033</td>\n",
              "    </tr>\n",
              "    <tr>\n",
              "      <th>France</th>\n",
              "      <td>28168</td>\n",
              "    </tr>\n",
              "    <tr>\n",
              "      <th>Germany</th>\n",
              "      <td>26623</td>\n",
              "    </tr>\n",
              "    <tr>\n",
              "      <th>Brazil</th>\n",
              "      <td>17736</td>\n",
              "    </tr>\n",
              "  </tbody>\n",
              "</table>\n",
              "</div><br><label><b>dtype:</b> int64</label>"
            ]
          },
          "metadata": {},
          "execution_count": 5
        }
      ],
      "source": [
        "master[master['sex'] == 'female'].groupby('country')['suicides_no'].sum().sort_values(ascending=False).head(5)"
      ]
    },
    {
      "cell_type": "code",
      "execution_count": 6,
      "metadata": {
        "colab": {
          "base_uri": "https://localhost:8080/",
          "height": 272
        },
        "id": "qflS3l8eRjHh",
        "outputId": "f878caa0-751b-4569-e4cd-82bfe519975e"
      },
      "outputs": [
        {
          "output_type": "execute_result",
          "data": {
            "text/plain": [
              "country\n",
              "Antigua and Barbuda    0\n",
              "Oman                   0\n",
              "Grenada                0\n",
              "Maldives               0\n",
              "Seychelles             3\n",
              "Name: suicides_no, dtype: int64"
            ],
            "text/html": [
              "<div>\n",
              "<style scoped>\n",
              "    .dataframe tbody tr th:only-of-type {\n",
              "        vertical-align: middle;\n",
              "    }\n",
              "\n",
              "    .dataframe tbody tr th {\n",
              "        vertical-align: top;\n",
              "    }\n",
              "\n",
              "    .dataframe thead th {\n",
              "        text-align: right;\n",
              "    }\n",
              "</style>\n",
              "<table border=\"1\" class=\"dataframe\">\n",
              "  <thead>\n",
              "    <tr style=\"text-align: right;\">\n",
              "      <th></th>\n",
              "      <th>suicides_no</th>\n",
              "    </tr>\n",
              "    <tr>\n",
              "      <th>country</th>\n",
              "      <th></th>\n",
              "    </tr>\n",
              "  </thead>\n",
              "  <tbody>\n",
              "    <tr>\n",
              "      <th>Antigua and Barbuda</th>\n",
              "      <td>0</td>\n",
              "    </tr>\n",
              "    <tr>\n",
              "      <th>Oman</th>\n",
              "      <td>0</td>\n",
              "    </tr>\n",
              "    <tr>\n",
              "      <th>Grenada</th>\n",
              "      <td>0</td>\n",
              "    </tr>\n",
              "    <tr>\n",
              "      <th>Maldives</th>\n",
              "      <td>0</td>\n",
              "    </tr>\n",
              "    <tr>\n",
              "      <th>Seychelles</th>\n",
              "      <td>3</td>\n",
              "    </tr>\n",
              "  </tbody>\n",
              "</table>\n",
              "</div><br><label><b>dtype:</b> int64</label>"
            ]
          },
          "metadata": {},
          "execution_count": 6
        }
      ],
      "source": [
        "master[master['sex'] == 'female'].groupby('country')['suicides_no'].sum().sort_values(ascending=True).head(5)"
      ]
    },
    {
      "cell_type": "markdown",
      "metadata": {
        "id": "OMmxc-7dRjHh"
      },
      "source": [
        "# Описательная статистика\n",
        "\n",
        "Чтобы представить себе среднестатистического самоубийцу, понадобится описательная статистика.\n",
        "\n",
        "Из её показателей для количественного описания данных в нашей задаче нужны четыре меры — максимум, минимум, медиана и среднее.\n",
        "\n",
        "Наибольшее и наименьшее обычно вычисляют только по одному признаку. Например, можно получить минимальное и максимальное значение уровня самоубийств (количество самоубийств на 100 тыс.населения) (столбец 'suicides/100k pop'). Для поиска максимума вызывают метод max(), примененный к этому столбцу:\n",
        "\n",
        "print(master['suicides/100k pop'].max())\n"
      ]
    },
    {
      "cell_type": "code",
      "execution_count": 7,
      "metadata": {
        "colab": {
          "base_uri": "https://localhost:8080/"
        },
        "id": "WEN460E_RjHi",
        "outputId": "76233b6d-ff27-453a-9d62-7a1a5e43093f"
      },
      "outputs": [
        {
          "output_type": "stream",
          "name": "stdout",
          "text": [
            "187.06\n"
          ]
        }
      ],
      "source": [
        "print(master['suicides/100k pop'].max())"
      ]
    },
    {
      "cell_type": "markdown",
      "metadata": {
        "id": "ZQzbgtciRjHi"
      },
      "source": [
        "Самый высокий показатель оказался 224.97 самоубийств на 100 тыс.населения. Интересно, в какой стране такая ситуация.\n",
        "\n",
        "Запросим из master строку с максимальным значением, прибегнув к логической индексации с условием\n",
        "\n",
        "**master['suicides/100k pop'] == master['suicides/100k pop'].max()**"
      ]
    },
    {
      "cell_type": "code",
      "execution_count": 8,
      "metadata": {
        "colab": {
          "base_uri": "https://localhost:8080/",
          "height": 115
        },
        "id": "_SlqIdVBRjHi",
        "outputId": "0bcc198f-1d25-4a25-e641-314fb4136978"
      },
      "outputs": [
        {
          "output_type": "execute_result",
          "data": {
            "text/plain": [
              "7248    Suriname\n",
              "Name: country, dtype: object"
            ],
            "text/html": [
              "<div>\n",
              "<style scoped>\n",
              "    .dataframe tbody tr th:only-of-type {\n",
              "        vertical-align: middle;\n",
              "    }\n",
              "\n",
              "    .dataframe tbody tr th {\n",
              "        vertical-align: top;\n",
              "    }\n",
              "\n",
              "    .dataframe thead th {\n",
              "        text-align: right;\n",
              "    }\n",
              "</style>\n",
              "<table border=\"1\" class=\"dataframe\">\n",
              "  <thead>\n",
              "    <tr style=\"text-align: right;\">\n",
              "      <th></th>\n",
              "      <th>country</th>\n",
              "    </tr>\n",
              "  </thead>\n",
              "  <tbody>\n",
              "    <tr>\n",
              "      <th>7248</th>\n",
              "      <td>Suriname</td>\n",
              "    </tr>\n",
              "  </tbody>\n",
              "</table>\n",
              "</div><br><label><b>dtype:</b> object</label>"
            ]
          },
          "metadata": {},
          "execution_count": 8
        }
      ],
      "source": [
        "master[master['suicides/100k pop'] == master['suicides/100k pop'].max()]['country']"
      ]
    },
    {
      "cell_type": "markdown",
      "metadata": {
        "id": "4-Bb4kDKRjHi"
      },
      "source": [
        "Минимальное значение — ищут методом **min()**. Нам интересно установить случаи, когда уровень суицидов минимальный, но не нулевой.\n",
        "\n",
        "Вот как мы создаём выборку  и находим в ней минимальное значение:\n",
        "\n",
        "**master_drop_null = master[master['suicides/100k pop'] != 0]**\n",
        "\n",
        "**print(master_drop_null['suicides/100k pop'].min())**\n"
      ]
    },
    {
      "cell_type": "code",
      "execution_count": 9,
      "metadata": {
        "colab": {
          "base_uri": "https://localhost:8080/"
        },
        "id": "PLgD8e3pRjHi",
        "outputId": "254e9d50-6fdd-473a-d652-564adaabecbf"
      },
      "outputs": [
        {
          "output_type": "stream",
          "name": "stdout",
          "text": [
            "0.02\n"
          ]
        }
      ],
      "source": [
        "master_drop_null = master[master['suicides/100k pop'] != 0]\n",
        "\n",
        "print(master_drop_null['suicides/100k pop'].min())"
      ]
    },
    {
      "cell_type": "markdown",
      "metadata": {
        "id": "3dmJyKbfRjHi"
      },
      "source": [
        "Получим название самой \"счастливой\" страны. Как и при поиске максимума, воспользуемся условием и логической индексацией"
      ]
    },
    {
      "cell_type": "code",
      "execution_count": 10,
      "metadata": {
        "colab": {
          "base_uri": "https://localhost:8080/",
          "height": 146
        },
        "id": "4ALjY5gpRjHi",
        "outputId": "ef230c22-2015-4659-c9de-8c51895f9612"
      },
      "outputs": [
        {
          "output_type": "execute_result",
          "data": {
            "text/plain": [
              "6995    South Africa\n",
              "7031    South Africa\n",
              "Name: country, dtype: object"
            ],
            "text/html": [
              "<div>\n",
              "<style scoped>\n",
              "    .dataframe tbody tr th:only-of-type {\n",
              "        vertical-align: middle;\n",
              "    }\n",
              "\n",
              "    .dataframe tbody tr th {\n",
              "        vertical-align: top;\n",
              "    }\n",
              "\n",
              "    .dataframe thead th {\n",
              "        text-align: right;\n",
              "    }\n",
              "</style>\n",
              "<table border=\"1\" class=\"dataframe\">\n",
              "  <thead>\n",
              "    <tr style=\"text-align: right;\">\n",
              "      <th></th>\n",
              "      <th>country</th>\n",
              "    </tr>\n",
              "  </thead>\n",
              "  <tbody>\n",
              "    <tr>\n",
              "      <th>6995</th>\n",
              "      <td>South Africa</td>\n",
              "    </tr>\n",
              "    <tr>\n",
              "      <th>7031</th>\n",
              "      <td>South Africa</td>\n",
              "    </tr>\n",
              "  </tbody>\n",
              "</table>\n",
              "</div><br><label><b>dtype:</b> object</label>"
            ]
          },
          "metadata": {},
          "execution_count": 10
        }
      ],
      "source": [
        "master_drop_null[master_drop_null['suicides/100k pop'] == master_drop_null['suicides/100k pop'].min()]['country']"
      ]
    },
    {
      "cell_type": "markdown",
      "metadata": {
        "id": "j5iqRiQQRjHi"
      },
      "source": [
        "Результат вывода — две страны, которые соответствуют минимальному значению.\n",
        "На основе полученных данных можно сделать вывод, что число совершенных самоубийств на 100 тыс. населения  находится в диапазоне от 0,02 до 224.97 секунд, не включая пропущенные.\n",
        "\n",
        "Это знание пригодится, чтобы разобраться с медианой и средним арифметическим.\n",
        "\n",
        "Среднее и медиана оценивают значения в центре выборки. Если тех строк, где число с большим количеством самоубийц, столько же, сколько тех, где это число мало — среднее подойдет. Но когда есть оторванные от основной массы лидеры, их результаты сильно смещают значение среднего вверх. Вот почему оценивать в этом случае лучше медианой.\n",
        "\n",
        "![image.png](attachment:image.png)\n",
        "\n",
        "В геометрии медиана делит фигуру на две равные по площади. В статистике она делит выборку пополам: в одной половине значения меньше медианного, в другой больше. Логично, что для определения медианы список обязательно должен быть отсортирован — либо по возрастанию, либо по убыванию.\n",
        "Когда количество значений нечётное, медиана будет равна тому значению, которое оказалось ровно посередине отсортированного набора. Если же количество данных чётное, то медиана рассчитывается как среднее арифметическое двух соседних чисел в середине набора.\n",
        "\n"
      ]
    },
    {
      "cell_type": "markdown",
      "metadata": {
        "id": "9KdmlyTRRjHi"
      },
      "source": [
        "В Pandas есть метод **median()**, который считает медиану. По аналогии с **min()** и **max()** его можно применять ко всей таблице, к отдельному столбцу или к сгруппированным данным. Теперь применим медиану ко всем значениям времени прослушивания в нашей таблице, исключив нулевые:\n",
        "\n"
      ]
    },
    {
      "cell_type": "code",
      "execution_count": 11,
      "metadata": {
        "colab": {
          "base_uri": "https://localhost:8080/"
        },
        "id": "pK3gNeQ7RjHj",
        "outputId": "efd6e85c-8c97-4650-963e-427d5f6a8a94"
      },
      "outputs": [
        {
          "output_type": "execute_result",
          "data": {
            "text/plain": [
              "7.64"
            ]
          },
          "metadata": {},
          "execution_count": 11
        }
      ],
      "source": [
        "master_drop_null['suicides/100k pop'].median()"
      ]
    },
    {
      "cell_type": "markdown",
      "metadata": {
        "id": "ezUom9LpRjHj"
      },
      "source": [
        "Чтобы убедиться, что лидеры действительно смещают средний показатель вверх, найдём среднее арифметическое всех этих значений методом mean():"
      ]
    },
    {
      "cell_type": "code",
      "execution_count": 12,
      "metadata": {
        "colab": {
          "base_uri": "https://localhost:8080/"
        },
        "id": "obQkA7VVRjHj",
        "outputId": "1588191c-a50b-4814-9693-8be0fa032b5e"
      },
      "outputs": [
        {
          "output_type": "execute_result",
          "data": {
            "text/plain": [
              "13.917101429166088"
            ]
          },
          "metadata": {},
          "execution_count": 12
        }
      ],
      "source": [
        "master_drop_null['suicides/100k pop'].mean()"
      ]
    },
    {
      "cell_type": "code",
      "execution_count": 13,
      "metadata": {
        "colab": {
          "base_uri": "https://localhost:8080/",
          "height": 363
        },
        "id": "PXtisL-_RjHj",
        "outputId": "f1fda7b1-a4c3-497c-95d7-aa73e68790fa"
      },
      "outputs": [
        {
          "output_type": "execute_result",
          "data": {
            "text/plain": [
              "           country  year   sex          age  suicides_no  population  \\\n",
              "6996  South Africa  2005  male    75+ years            7      217456   \n",
              "6997  South Africa  2005  male  25-34 years          123     4115079   \n",
              "6998  South Africa  2005  male  35-54 years          113     4940028   \n",
              "6999  South Africa  2005  male  15-24 years           84     5085130   \n",
              "7000  South Africa  2005  male  55-74 years           26     1814968   \n",
              "7007  South Africa  2005  male   5-14 years            4     5136182   \n",
              "7008  South Africa  2010  male    75+ years            9      250341   \n",
              "7009  South Africa  2010  male  25-34 years          106     4588964   \n",
              "7010  South Africa  2010  male  55-74 years           35     2069020   \n",
              "7011  South Africa  2010  male  35-54 years           85     5336625   \n",
              "\n",
              "      suicides/100k pop      country-year  HDI for year  gdp_for_year ($)   \\\n",
              "6996               3.22  South Africa2005         0.613    257,671,413,751   \n",
              "6997               2.99  South Africa2005         0.613    257,671,413,751   \n",
              "6998               2.29  South Africa2005         0.613    257,671,413,751   \n",
              "6999               1.65  South Africa2005         0.613    257,671,413,751   \n",
              "7000               1.43  South Africa2005         0.613    257,671,413,751   \n",
              "7007               0.08  South Africa2005         0.613    257,671,413,751   \n",
              "7008               3.60  South Africa2010         0.643    375,298,134,440   \n",
              "7009               2.31  South Africa2010         0.643    375,298,134,440   \n",
              "7010               1.69  South Africa2010         0.643    375,298,134,440   \n",
              "7011               1.59  South Africa2010         0.643    375,298,134,440   \n",
              "\n",
              "      gdp_per_capita ($)    generation  \n",
              "6996                5914        Silent  \n",
              "6997                5914  Generation X  \n",
              "6998                5914       Boomers  \n",
              "6999                5914    Millenials  \n",
              "7000                5914        Silent  \n",
              "7007                5914    Millenials  \n",
              "7008                8128        Silent  \n",
              "7009                8128  Generation X  \n",
              "7010                8128        Silent  \n",
              "7011                8128  Generation X  "
            ],
            "text/html": [
              "\n",
              "  <div id=\"df-27d2651c-791d-40c5-8c56-5f9dcb8c50c5\" class=\"colab-df-container\">\n",
              "    <div>\n",
              "<style scoped>\n",
              "    .dataframe tbody tr th:only-of-type {\n",
              "        vertical-align: middle;\n",
              "    }\n",
              "\n",
              "    .dataframe tbody tr th {\n",
              "        vertical-align: top;\n",
              "    }\n",
              "\n",
              "    .dataframe thead th {\n",
              "        text-align: right;\n",
              "    }\n",
              "</style>\n",
              "<table border=\"1\" class=\"dataframe\">\n",
              "  <thead>\n",
              "    <tr style=\"text-align: right;\">\n",
              "      <th></th>\n",
              "      <th>country</th>\n",
              "      <th>year</th>\n",
              "      <th>sex</th>\n",
              "      <th>age</th>\n",
              "      <th>suicides_no</th>\n",
              "      <th>population</th>\n",
              "      <th>suicides/100k pop</th>\n",
              "      <th>country-year</th>\n",
              "      <th>HDI for year</th>\n",
              "      <th>gdp_for_year ($)</th>\n",
              "      <th>gdp_per_capita ($)</th>\n",
              "      <th>generation</th>\n",
              "    </tr>\n",
              "  </thead>\n",
              "  <tbody>\n",
              "    <tr>\n",
              "      <th>6996</th>\n",
              "      <td>South Africa</td>\n",
              "      <td>2005</td>\n",
              "      <td>male</td>\n",
              "      <td>75+ years</td>\n",
              "      <td>7</td>\n",
              "      <td>217456</td>\n",
              "      <td>3.22</td>\n",
              "      <td>South Africa2005</td>\n",
              "      <td>0.613</td>\n",
              "      <td>257,671,413,751</td>\n",
              "      <td>5914</td>\n",
              "      <td>Silent</td>\n",
              "    </tr>\n",
              "    <tr>\n",
              "      <th>6997</th>\n",
              "      <td>South Africa</td>\n",
              "      <td>2005</td>\n",
              "      <td>male</td>\n",
              "      <td>25-34 years</td>\n",
              "      <td>123</td>\n",
              "      <td>4115079</td>\n",
              "      <td>2.99</td>\n",
              "      <td>South Africa2005</td>\n",
              "      <td>0.613</td>\n",
              "      <td>257,671,413,751</td>\n",
              "      <td>5914</td>\n",
              "      <td>Generation X</td>\n",
              "    </tr>\n",
              "    <tr>\n",
              "      <th>6998</th>\n",
              "      <td>South Africa</td>\n",
              "      <td>2005</td>\n",
              "      <td>male</td>\n",
              "      <td>35-54 years</td>\n",
              "      <td>113</td>\n",
              "      <td>4940028</td>\n",
              "      <td>2.29</td>\n",
              "      <td>South Africa2005</td>\n",
              "      <td>0.613</td>\n",
              "      <td>257,671,413,751</td>\n",
              "      <td>5914</td>\n",
              "      <td>Boomers</td>\n",
              "    </tr>\n",
              "    <tr>\n",
              "      <th>6999</th>\n",
              "      <td>South Africa</td>\n",
              "      <td>2005</td>\n",
              "      <td>male</td>\n",
              "      <td>15-24 years</td>\n",
              "      <td>84</td>\n",
              "      <td>5085130</td>\n",
              "      <td>1.65</td>\n",
              "      <td>South Africa2005</td>\n",
              "      <td>0.613</td>\n",
              "      <td>257,671,413,751</td>\n",
              "      <td>5914</td>\n",
              "      <td>Millenials</td>\n",
              "    </tr>\n",
              "    <tr>\n",
              "      <th>7000</th>\n",
              "      <td>South Africa</td>\n",
              "      <td>2005</td>\n",
              "      <td>male</td>\n",
              "      <td>55-74 years</td>\n",
              "      <td>26</td>\n",
              "      <td>1814968</td>\n",
              "      <td>1.43</td>\n",
              "      <td>South Africa2005</td>\n",
              "      <td>0.613</td>\n",
              "      <td>257,671,413,751</td>\n",
              "      <td>5914</td>\n",
              "      <td>Silent</td>\n",
              "    </tr>\n",
              "    <tr>\n",
              "      <th>7007</th>\n",
              "      <td>South Africa</td>\n",
              "      <td>2005</td>\n",
              "      <td>male</td>\n",
              "      <td>5-14 years</td>\n",
              "      <td>4</td>\n",
              "      <td>5136182</td>\n",
              "      <td>0.08</td>\n",
              "      <td>South Africa2005</td>\n",
              "      <td>0.613</td>\n",
              "      <td>257,671,413,751</td>\n",
              "      <td>5914</td>\n",
              "      <td>Millenials</td>\n",
              "    </tr>\n",
              "    <tr>\n",
              "      <th>7008</th>\n",
              "      <td>South Africa</td>\n",
              "      <td>2010</td>\n",
              "      <td>male</td>\n",
              "      <td>75+ years</td>\n",
              "      <td>9</td>\n",
              "      <td>250341</td>\n",
              "      <td>3.60</td>\n",
              "      <td>South Africa2010</td>\n",
              "      <td>0.643</td>\n",
              "      <td>375,298,134,440</td>\n",
              "      <td>8128</td>\n",
              "      <td>Silent</td>\n",
              "    </tr>\n",
              "    <tr>\n",
              "      <th>7009</th>\n",
              "      <td>South Africa</td>\n",
              "      <td>2010</td>\n",
              "      <td>male</td>\n",
              "      <td>25-34 years</td>\n",
              "      <td>106</td>\n",
              "      <td>4588964</td>\n",
              "      <td>2.31</td>\n",
              "      <td>South Africa2010</td>\n",
              "      <td>0.643</td>\n",
              "      <td>375,298,134,440</td>\n",
              "      <td>8128</td>\n",
              "      <td>Generation X</td>\n",
              "    </tr>\n",
              "    <tr>\n",
              "      <th>7010</th>\n",
              "      <td>South Africa</td>\n",
              "      <td>2010</td>\n",
              "      <td>male</td>\n",
              "      <td>55-74 years</td>\n",
              "      <td>35</td>\n",
              "      <td>2069020</td>\n",
              "      <td>1.69</td>\n",
              "      <td>South Africa2010</td>\n",
              "      <td>0.643</td>\n",
              "      <td>375,298,134,440</td>\n",
              "      <td>8128</td>\n",
              "      <td>Silent</td>\n",
              "    </tr>\n",
              "    <tr>\n",
              "      <th>7011</th>\n",
              "      <td>South Africa</td>\n",
              "      <td>2010</td>\n",
              "      <td>male</td>\n",
              "      <td>35-54 years</td>\n",
              "      <td>85</td>\n",
              "      <td>5336625</td>\n",
              "      <td>1.59</td>\n",
              "      <td>South Africa2010</td>\n",
              "      <td>0.643</td>\n",
              "      <td>375,298,134,440</td>\n",
              "      <td>8128</td>\n",
              "      <td>Generation X</td>\n",
              "    </tr>\n",
              "  </tbody>\n",
              "</table>\n",
              "</div>\n",
              "    <div class=\"colab-df-buttons\">\n",
              "\n",
              "  <div class=\"colab-df-container\">\n",
              "    <button class=\"colab-df-convert\" onclick=\"convertToInteractive('df-27d2651c-791d-40c5-8c56-5f9dcb8c50c5')\"\n",
              "            title=\"Convert this dataframe to an interactive table.\"\n",
              "            style=\"display:none;\">\n",
              "\n",
              "  <svg xmlns=\"http://www.w3.org/2000/svg\" height=\"24px\" viewBox=\"0 -960 960 960\">\n",
              "    <path d=\"M120-120v-720h720v720H120Zm60-500h600v-160H180v160Zm220 220h160v-160H400v160Zm0 220h160v-160H400v160ZM180-400h160v-160H180v160Zm440 0h160v-160H620v160ZM180-180h160v-160H180v160Zm440 0h160v-160H620v160Z\"/>\n",
              "  </svg>\n",
              "    </button>\n",
              "\n",
              "  <style>\n",
              "    .colab-df-container {\n",
              "      display:flex;\n",
              "      gap: 12px;\n",
              "    }\n",
              "\n",
              "    .colab-df-convert {\n",
              "      background-color: #E8F0FE;\n",
              "      border: none;\n",
              "      border-radius: 50%;\n",
              "      cursor: pointer;\n",
              "      display: none;\n",
              "      fill: #1967D2;\n",
              "      height: 32px;\n",
              "      padding: 0 0 0 0;\n",
              "      width: 32px;\n",
              "    }\n",
              "\n",
              "    .colab-df-convert:hover {\n",
              "      background-color: #E2EBFA;\n",
              "      box-shadow: 0px 1px 2px rgba(60, 64, 67, 0.3), 0px 1px 3px 1px rgba(60, 64, 67, 0.15);\n",
              "      fill: #174EA6;\n",
              "    }\n",
              "\n",
              "    .colab-df-buttons div {\n",
              "      margin-bottom: 4px;\n",
              "    }\n",
              "\n",
              "    [theme=dark] .colab-df-convert {\n",
              "      background-color: #3B4455;\n",
              "      fill: #D2E3FC;\n",
              "    }\n",
              "\n",
              "    [theme=dark] .colab-df-convert:hover {\n",
              "      background-color: #434B5C;\n",
              "      box-shadow: 0px 1px 3px 1px rgba(0, 0, 0, 0.15);\n",
              "      filter: drop-shadow(0px 1px 2px rgba(0, 0, 0, 0.3));\n",
              "      fill: #FFFFFF;\n",
              "    }\n",
              "  </style>\n",
              "\n",
              "    <script>\n",
              "      const buttonEl =\n",
              "        document.querySelector('#df-27d2651c-791d-40c5-8c56-5f9dcb8c50c5 button.colab-df-convert');\n",
              "      buttonEl.style.display =\n",
              "        google.colab.kernel.accessAllowed ? 'block' : 'none';\n",
              "\n",
              "      async function convertToInteractive(key) {\n",
              "        const element = document.querySelector('#df-27d2651c-791d-40c5-8c56-5f9dcb8c50c5');\n",
              "        const dataTable =\n",
              "          await google.colab.kernel.invokeFunction('convertToInteractive',\n",
              "                                                    [key], {});\n",
              "        if (!dataTable) return;\n",
              "\n",
              "        const docLinkHtml = 'Like what you see? Visit the ' +\n",
              "          '<a target=\"_blank\" href=https://colab.research.google.com/notebooks/data_table.ipynb>data table notebook</a>'\n",
              "          + ' to learn more about interactive tables.';\n",
              "        element.innerHTML = '';\n",
              "        dataTable['output_type'] = 'display_data';\n",
              "        await google.colab.output.renderOutput(dataTable, element);\n",
              "        const docLink = document.createElement('div');\n",
              "        docLink.innerHTML = docLinkHtml;\n",
              "        element.appendChild(docLink);\n",
              "      }\n",
              "    </script>\n",
              "  </div>\n",
              "\n",
              "\n",
              "<div id=\"df-4ac1a8bd-7120-42ac-acf9-dd18e2dcd3a0\">\n",
              "  <button class=\"colab-df-quickchart\" onclick=\"quickchart('df-4ac1a8bd-7120-42ac-acf9-dd18e2dcd3a0')\"\n",
              "            title=\"Suggest charts\"\n",
              "            style=\"display:none;\">\n",
              "\n",
              "<svg xmlns=\"http://www.w3.org/2000/svg\" height=\"24px\"viewBox=\"0 0 24 24\"\n",
              "     width=\"24px\">\n",
              "    <g>\n",
              "        <path d=\"M19 3H5c-1.1 0-2 .9-2 2v14c0 1.1.9 2 2 2h14c1.1 0 2-.9 2-2V5c0-1.1-.9-2-2-2zM9 17H7v-7h2v7zm4 0h-2V7h2v10zm4 0h-2v-4h2v4z\"/>\n",
              "    </g>\n",
              "</svg>\n",
              "  </button>\n",
              "\n",
              "<style>\n",
              "  .colab-df-quickchart {\n",
              "      --bg-color: #E8F0FE;\n",
              "      --fill-color: #1967D2;\n",
              "      --hover-bg-color: #E2EBFA;\n",
              "      --hover-fill-color: #174EA6;\n",
              "      --disabled-fill-color: #AAA;\n",
              "      --disabled-bg-color: #DDD;\n",
              "  }\n",
              "\n",
              "  [theme=dark] .colab-df-quickchart {\n",
              "      --bg-color: #3B4455;\n",
              "      --fill-color: #D2E3FC;\n",
              "      --hover-bg-color: #434B5C;\n",
              "      --hover-fill-color: #FFFFFF;\n",
              "      --disabled-bg-color: #3B4455;\n",
              "      --disabled-fill-color: #666;\n",
              "  }\n",
              "\n",
              "  .colab-df-quickchart {\n",
              "    background-color: var(--bg-color);\n",
              "    border: none;\n",
              "    border-radius: 50%;\n",
              "    cursor: pointer;\n",
              "    display: none;\n",
              "    fill: var(--fill-color);\n",
              "    height: 32px;\n",
              "    padding: 0;\n",
              "    width: 32px;\n",
              "  }\n",
              "\n",
              "  .colab-df-quickchart:hover {\n",
              "    background-color: var(--hover-bg-color);\n",
              "    box-shadow: 0 1px 2px rgba(60, 64, 67, 0.3), 0 1px 3px 1px rgba(60, 64, 67, 0.15);\n",
              "    fill: var(--button-hover-fill-color);\n",
              "  }\n",
              "\n",
              "  .colab-df-quickchart-complete:disabled,\n",
              "  .colab-df-quickchart-complete:disabled:hover {\n",
              "    background-color: var(--disabled-bg-color);\n",
              "    fill: var(--disabled-fill-color);\n",
              "    box-shadow: none;\n",
              "  }\n",
              "\n",
              "  .colab-df-spinner {\n",
              "    border: 2px solid var(--fill-color);\n",
              "    border-color: transparent;\n",
              "    border-bottom-color: var(--fill-color);\n",
              "    animation:\n",
              "      spin 1s steps(1) infinite;\n",
              "  }\n",
              "\n",
              "  @keyframes spin {\n",
              "    0% {\n",
              "      border-color: transparent;\n",
              "      border-bottom-color: var(--fill-color);\n",
              "      border-left-color: var(--fill-color);\n",
              "    }\n",
              "    20% {\n",
              "      border-color: transparent;\n",
              "      border-left-color: var(--fill-color);\n",
              "      border-top-color: var(--fill-color);\n",
              "    }\n",
              "    30% {\n",
              "      border-color: transparent;\n",
              "      border-left-color: var(--fill-color);\n",
              "      border-top-color: var(--fill-color);\n",
              "      border-right-color: var(--fill-color);\n",
              "    }\n",
              "    40% {\n",
              "      border-color: transparent;\n",
              "      border-right-color: var(--fill-color);\n",
              "      border-top-color: var(--fill-color);\n",
              "    }\n",
              "    60% {\n",
              "      border-color: transparent;\n",
              "      border-right-color: var(--fill-color);\n",
              "    }\n",
              "    80% {\n",
              "      border-color: transparent;\n",
              "      border-right-color: var(--fill-color);\n",
              "      border-bottom-color: var(--fill-color);\n",
              "    }\n",
              "    90% {\n",
              "      border-color: transparent;\n",
              "      border-bottom-color: var(--fill-color);\n",
              "    }\n",
              "  }\n",
              "</style>\n",
              "\n",
              "  <script>\n",
              "    async function quickchart(key) {\n",
              "      const quickchartButtonEl =\n",
              "        document.querySelector('#' + key + ' button');\n",
              "      quickchartButtonEl.disabled = true;  // To prevent multiple clicks.\n",
              "      quickchartButtonEl.classList.add('colab-df-spinner');\n",
              "      try {\n",
              "        const charts = await google.colab.kernel.invokeFunction(\n",
              "            'suggestCharts', [key], {});\n",
              "      } catch (error) {\n",
              "        console.error('Error during call to suggestCharts:', error);\n",
              "      }\n",
              "      quickchartButtonEl.classList.remove('colab-df-spinner');\n",
              "      quickchartButtonEl.classList.add('colab-df-quickchart-complete');\n",
              "    }\n",
              "    (() => {\n",
              "      let quickchartButtonEl =\n",
              "        document.querySelector('#df-4ac1a8bd-7120-42ac-acf9-dd18e2dcd3a0 button');\n",
              "      quickchartButtonEl.style.display =\n",
              "        google.colab.kernel.accessAllowed ? 'block' : 'none';\n",
              "    })();\n",
              "  </script>\n",
              "</div>\n",
              "    </div>\n",
              "  </div>\n"
            ],
            "application/vnd.google.colaboratory.intrinsic+json": {
              "type": "dataframe",
              "summary": "{\n  \"name\": \"master\",\n  \"rows\": 10,\n  \"fields\": [\n    {\n      \"column\": \"country\",\n      \"properties\": {\n        \"dtype\": \"category\",\n        \"num_unique_values\": 1,\n        \"samples\": [\n          \"South Africa\"\n        ],\n        \"semantic_type\": \"\",\n        \"description\": \"\"\n      }\n    },\n    {\n      \"column\": \"year\",\n      \"properties\": {\n        \"dtype\": \"number\",\n        \"std\": 2,\n        \"min\": 2005,\n        \"max\": 2010,\n        \"num_unique_values\": 2,\n        \"samples\": [\n          2010\n        ],\n        \"semantic_type\": \"\",\n        \"description\": \"\"\n      }\n    },\n    {\n      \"column\": \"sex\",\n      \"properties\": {\n        \"dtype\": \"category\",\n        \"num_unique_values\": 1,\n        \"samples\": [\n          \"male\"\n        ],\n        \"semantic_type\": \"\",\n        \"description\": \"\"\n      }\n    },\n    {\n      \"column\": \"age\",\n      \"properties\": {\n        \"dtype\": \"string\",\n        \"num_unique_values\": 6,\n        \"samples\": [\n          \"75+ years\"\n        ],\n        \"semantic_type\": \"\",\n        \"description\": \"\"\n      }\n    },\n    {\n      \"column\": \"suicides_no\",\n      \"properties\": {\n        \"dtype\": \"number\",\n        \"std\": 47,\n        \"min\": 4,\n        \"max\": 123,\n        \"num_unique_values\": 10,\n        \"samples\": [\n          35\n        ],\n        \"semantic_type\": \"\",\n        \"description\": \"\"\n      }\n    },\n    {\n      \"column\": \"population\",\n      \"properties\": {\n        \"dtype\": \"number\",\n        \"std\": 2060583,\n        \"min\": 217456,\n        \"max\": 5336625,\n        \"num_unique_values\": 10,\n        \"samples\": [\n          2069020\n        ],\n        \"semantic_type\": \"\",\n        \"description\": \"\"\n      }\n    },\n    {\n      \"column\": \"suicides/100k pop\",\n      \"properties\": {\n        \"dtype\": \"number\",\n        \"std\": 1.029263490722047,\n        \"min\": 0.08,\n        \"max\": 3.6,\n        \"num_unique_values\": 10,\n        \"samples\": [\n          1.69\n        ],\n        \"semantic_type\": \"\",\n        \"description\": \"\"\n      }\n    },\n    {\n      \"column\": \"country-year\",\n      \"properties\": {\n        \"dtype\": \"category\",\n        \"num_unique_values\": 2,\n        \"samples\": [\n          \"South Africa2010\"\n        ],\n        \"semantic_type\": \"\",\n        \"description\": \"\"\n      }\n    },\n    {\n      \"column\": \"HDI for year\",\n      \"properties\": {\n        \"dtype\": \"number\",\n        \"std\": 0.015491933384829681,\n        \"min\": 0.613,\n        \"max\": 0.643,\n        \"num_unique_values\": 2,\n        \"samples\": [\n          0.643\n        ],\n        \"semantic_type\": \"\",\n        \"description\": \"\"\n      }\n    },\n    {\n      \"column\": \" gdp_for_year ($) \",\n      \"properties\": {\n        \"dtype\": \"category\",\n        \"num_unique_values\": 2,\n        \"samples\": [\n          \"375,298,134,440\"\n        ],\n        \"semantic_type\": \"\",\n        \"description\": \"\"\n      }\n    },\n    {\n      \"column\": \"gdp_per_capita ($)\",\n      \"properties\": {\n        \"dtype\": \"number\",\n        \"std\": 1143,\n        \"min\": 5914,\n        \"max\": 8128,\n        \"num_unique_values\": 2,\n        \"samples\": [\n          8128\n        ],\n        \"semantic_type\": \"\",\n        \"description\": \"\"\n      }\n    },\n    {\n      \"column\": \"generation\",\n      \"properties\": {\n        \"dtype\": \"category\",\n        \"num_unique_values\": 4,\n        \"samples\": [\n          \"Generation X\"\n        ],\n        \"semantic_type\": \"\",\n        \"description\": \"\"\n      }\n    }\n  ]\n}"
            }
          },
          "metadata": {},
          "execution_count": 13
        }
      ],
      "source": [
        "#количество роскомнадзоров мужчин в южной африке с 2005 по 2007\n",
        "master.loc[(master['sex'] == 'male') & (master['country'] == 'South Africa') & (2005 <= master['year'])].groupby('country').head(10)"
      ]
    }
  ],
  "metadata": {
    "kernelspec": {
      "display_name": "Python 3",
      "language": "python",
      "name": "python3"
    },
    "language_info": {
      "codemirror_mode": {
        "name": "ipython",
        "version": 3
      },
      "file_extension": ".py",
      "mimetype": "text/x-python",
      "name": "python",
      "nbconvert_exporter": "python",
      "pygments_lexer": "ipython3",
      "version": "3.12.6"
    },
    "colab": {
      "provenance": [],
      "include_colab_link": true
    }
  },
  "nbformat": 4,
  "nbformat_minor": 0
}